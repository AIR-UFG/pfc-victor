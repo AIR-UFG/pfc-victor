{
  "cells": [
    {
      "cell_type": "markdown",
      "metadata": {
        "id": "view-in-github",
        "colab_type": "text"
      },
      "source": [
        "<a href=\"https://colab.research.google.com/github/AIR-UFG/pfc-victor/blob/main/SimpleTruco.ipynb\" target=\"_parent\"><img src=\"https://colab.research.google.com/assets/colab-badge.svg\" alt=\"Open In Colab\"/></a>"
      ]
    },
    {
      "cell_type": "code",
      "execution_count": 1,
      "id": "daaa63b6",
      "metadata": {
        "id": "daaa63b6"
      },
      "outputs": [],
      "source": [
        "# media das avg game value\n",
        "# duas cartas\n",
        "## CFR+ (https://arxiv.org/pdf/1407.5042.pdf)"
      ]
    },
    {
      "cell_type": "code",
      "execution_count": 2,
      "id": "94319d28",
      "metadata": {
        "id": "94319d28"
      },
      "outputs": [],
      "source": [
        "import re\n",
        "import numpy as np\n",
        "import matplotlib.pyplot as plt\n",
        "from time import time\n",
        "from random import shuffle\n",
        "from collections import OrderedDict\n",
        "from IPython.display import clear_output\n",
        "from abc import ABC, abstractmethod\n",
        "from tqdm import tqdm"
      ]
    },
    {
      "cell_type": "markdown",
      "id": "7b42c025",
      "metadata": {
        "id": "7b42c025"
      },
      "source": [
        "# Simplified Truco\n",
        "\n",
        "* Quatro ações principais: `c, p, b, D` (call, pass, bet e draw card)\n",
        "* `D` é jogar uma carta válida e será representada pela string que define a carta\n",
        "* O baralho será composto por 5 cartas: 1 zap (`Z`), 2 cartas médias (`N`) e 2 cartas fracas (`R`)\n",
        "* A força será : `Z` $>$ `N` $>$ `R`\n",
        "* A força será representada pelos valores inteiros $10$, $5$ e $0$"
      ]
    },
    {
      "cell_type": "markdown",
      "source": [
        "Globais para o jogo"
      ],
      "metadata": {
        "id": "vKO4zXxYfYPr"
      },
      "id": "vKO4zXxYfYPr"
    },
    {
      "cell_type": "code",
      "source": [
        "# acoes\n",
        "CALL = 0\n",
        "PASS = 1\n",
        "BET = 2\n",
        "PLAY_CARD = 3\n",
        "\n",
        "NUM_ACTIONS = 5\n",
        "\n",
        "VOICE_ACTIONS = [CALL, PASS, BET]\n",
        "\n",
        "CARDS_DECK = [10, 5, 5, 0, 0]\n",
        "\n",
        "CARD_NAME = {\n",
        "    10: 'Z',\n",
        "    5: 'N',\n",
        "    0: 'R'\n",
        "}\n",
        "\n",
        "# maximo de 'truco'\n",
        "MAX_BET = 2\n",
        "\n",
        "# index dos jogadores\n",
        "PLAYER_0 = 0\n",
        "PLAYER_1 = 1\n",
        "\n",
        "N_PLAYERS = 2\n",
        "CARDS_IN_HAND = 1\n",
        "\n",
        "CARDS_PER_TEAM = 2*CARDS_IN_HAND"
      ],
      "metadata": {
        "id": "NVzA0_tNfYmD"
      },
      "id": "NVzA0_tNfYmD",
      "execution_count": 3,
      "outputs": []
    },
    {
      "cell_type": "markdown",
      "source": [
        "## Implementação do jogo"
      ],
      "metadata": {
        "id": "fVg4pAYnUMBA"
      },
      "id": "fVg4pAYnUMBA"
    },
    {
      "cell_type": "code",
      "execution_count": 4,
      "id": "6cb7a78b",
      "metadata": {
        "id": "6cb7a78b"
      },
      "outputs": [],
      "source": [
        "class SimpleTruco():\n",
        "\n",
        "    def __init__(self):\n",
        "        self.card_strength = {'Z': 10, 'N': 5, 'R': 0}\n",
        "        self.payoff_value = 0\n",
        "        self.regex_all_played = re.compile(\"(((b(bb)?c)|(bb))?[ZNR]){4}\")\n",
        "\n",
        "\n",
        "    def is_terminal(self, game_history):\n",
        "        terminal_state = False\n",
        "\n",
        "        valid_history = self.check_history_valid(game_history)\n",
        "\n",
        "        if valid_history:\n",
        "            opponent_ran = self.check_quitter(game_history)\n",
        "            all_cards_played = self.check_all_played(game_history)\n",
        "\n",
        "            if opponent_ran or all_cards_played:\n",
        "                terminal_state = True\n",
        "\n",
        "        return terminal_state\n",
        "\n",
        "    def check_history_valid(self, history):\n",
        "        return (history != '')\n",
        "\n",
        "    def check_quitter(self, history):\n",
        "        return (history[-1] == 'p')\n",
        "\n",
        "    def check_all_played(self, history):\n",
        "        return self.regex_all_played.search(history)\n",
        "\n",
        "\n",
        "    def set_payoff_value(self, game_history):\n",
        "        times_raised = game_history.count('b')\n",
        "\n",
        "        player, opponent = self.get_player_opponent_index(game_history)\n",
        "        opponent_ran = self.check_quitter(game_history)\n",
        "\n",
        "        if opponent_ran:\n",
        "            payoff_value = max(1, 3*(times_raised - 1))\n",
        "        else:\n",
        "            points = max(1, 3*times_raised)\n",
        "            winner = self.get_winner(game_history)\n",
        "\n",
        "            if winner == player:\n",
        "                reward = 1\n",
        "            elif winner == opponent:\n",
        "                reward = -1\n",
        "            else:\n",
        "                reward = 0\n",
        "\n",
        "            payoff_value = reward*points\n",
        "\n",
        "        self.payoff_value = payoff_value\n",
        "        return\n",
        "\n",
        "    def get_player_opponent_index(self, history):\n",
        "        player = len(history) % 2\n",
        "        opponent = 1 - player\n",
        "\n",
        "        return (player, opponent)\n",
        "\n",
        "    def get_winner(self, history):\n",
        "        winner = -1\n",
        "        actions = self.get_player_actions(history)\n",
        "\n",
        "        if self.check_quitter(actions[PLAYER_0]):\n",
        "            winner = PLAYER_1\n",
        "        elif self.check_quitter(actions[PLAYER_1]):\n",
        "            winner = PLAYER_0\n",
        "        else:\n",
        "            cards = self.get_player_cards(actions)\n",
        "            max_card_p0, max_card_p1 = self.get_player_max_card(cards)\n",
        "\n",
        "            if max_card_p0 > max_card_p1:\n",
        "                winner = PLAYER_0\n",
        "            elif max_card_p0 < max_card_p1:\n",
        "                winner = PLAYER_1\n",
        "\n",
        "        return winner\n",
        "\n",
        "    def get_player_actions(self, history):\n",
        "        player_actions = {}\n",
        "\n",
        "        player_actions[PLAYER_0] = history[::2]\n",
        "        player_actions[PLAYER_1] = history[1::2]\n",
        "\n",
        "        return player_actions\n",
        "\n",
        "    def get_player_cards(self, actions):\n",
        "        player_cards = {}\n",
        "\n",
        "        player_cards[PLAYER_0] = re.findall(r'[ZNR]', actions[PLAYER_0])\n",
        "        player_cards[PLAYER_1] = re.findall(r'[ZNR]', actions[PLAYER_1])\n",
        "\n",
        "        return player_cards\n",
        "\n",
        "    def get_player_max_card(self, cards):\n",
        "        p0_strength = [self.card_strength[card] for card in cards[PLAYER_0]]\n",
        "        p1_strength = [self.card_strength[card] for card in cards[PLAYER_1]]\n",
        "\n",
        "        p0_max = max(p0_strength)\n",
        "        p1_max = max(p1_strength)\n",
        "\n",
        "        return p0_max, p1_max\n",
        "\n",
        "\n",
        "    def possible_actions(self, infoset):\n",
        "        complete_hand, game_history = infoset.split('#')\n",
        "\n",
        "        player, opponent = self.get_player_opponent_index(game_history)\n",
        "        actions = self.get_player_actions(game_history)\n",
        "\n",
        "        is_raise_sequence = re.search(r'((?<=[cZNR])(b+)$)|^b+$', game_history)\n",
        "\n",
        "        times_raised = game_history.count('b')\n",
        "        times_played = len(re.findall('[ZNR]', actions[player]))\n",
        "\n",
        "        hand_turn = times_played % 2\n",
        "\n",
        "        playable_cards = self.get_playable_cards(complete_hand, hand_turn)\n",
        "\n",
        "        if is_raise_sequence:\n",
        "            raise_sequence = is_raise_sequence.group()\n",
        "\n",
        "            possible_actions = self.answer_raise_sequence(raise_sequence,\n",
        "                                                          times_raised)\n",
        "        else:\n",
        "            possible_actions = self.normal_actions(actions[player],\n",
        "                                                   actions[opponent],\n",
        "                                                   times_raised)\n",
        "\n",
        "        possible_actions = self.insert_cards(possible_actions, playable_cards)\n",
        "        return possible_actions\n",
        "\n",
        "    def answer_raise_sequence(self, raise_sequence, n_raise):\n",
        "        p_actions = [PASS]\n",
        "\n",
        "        if n_raise < MAX_BET:\n",
        "            p_actions.append(BET)\n",
        "\n",
        "        accept_bet = self.check_bet_acceptance(raise_sequence)\n",
        "        p_actions.append(accept_bet)\n",
        "\n",
        "        return p_actions\n",
        "\n",
        "    def normal_actions(self, player_actions, opponent_actions, n_raised):\n",
        "        p_actions = [PLAY_CARD]\n",
        "        can_bet = self.check_bet_possibility(player_actions,\n",
        "                                             opponent_actions)\n",
        "\n",
        "        if can_bet and (n_raised < MAX_BET):\n",
        "            p_actions.append(BET)\n",
        "\n",
        "        return p_actions\n",
        "\n",
        "    def check_bet_acceptance(self, raise_sequence):\n",
        "        if (len(raise_sequence) % 2):\n",
        "            accept_action = CALL\n",
        "        else:\n",
        "            accept_action = PLAY_CARD\n",
        "\n",
        "        return accept_action\n",
        "\n",
        "    def check_bet_possibility(self, player_actions, opponent_actions):\n",
        "        possibility = True\n",
        "\n",
        "        player_last_bet = player_actions.rfind('b')\n",
        "        opponent_last_bet = opponent_actions.rfind('b')\n",
        "\n",
        "        if player_last_bet > opponent_last_bet:\n",
        "            possibility = False\n",
        "\n",
        "        return possibility\n",
        "\n",
        "    def get_playable_cards(self, all_hands, turn):\n",
        "        offset = self.get_offset(turn)\n",
        "        playable_hand = all_hands.split('|')[turn]\n",
        "        playable_cards = [offset + i for i, char in enumerate(playable_hand) if char != '.']\n",
        "\n",
        "        return playable_cards\n",
        "\n",
        "    def get_offset(self, turn):\n",
        "        return PLAY_CARD + turn*CARDS_IN_HAND\n",
        "\n",
        "    def insert_cards(self, p_actions, cards):\n",
        "        if PLAY_CARD not in p_actions:\n",
        "            return p_actions\n",
        "\n",
        "        new_actions = p_actions\n",
        "        new_actions.remove(PLAY_CARD)\n",
        "\n",
        "        new_actions += cards\n",
        "        return new_actions"
      ]
    },
    {
      "cell_type": "markdown",
      "source": [
        "## Funções auxiliares"
      ],
      "metadata": {
        "id": "zeHYwnAqAzr9"
      },
      "id": "zeHYwnAqAzr9"
    },
    {
      "cell_type": "code",
      "source": [
        "def get_string(action, info_set):\n",
        "    string_action = {\n",
        "        0: 'c',\n",
        "        1: 'p',\n",
        "        2: 'b'\n",
        "    }\n",
        "\n",
        "    if action < 3:\n",
        "        return string_action[action]\n",
        "\n",
        "    cards = info_set.split('#')[0]\n",
        "    cards = cards.replace('|', '')\n",
        "    played_card = cards[action - PLAY_CARD]\n",
        "    return played_card\n",
        "\n",
        "def play_card(index, cards):\n",
        "    new_cards = cards\n",
        "    correct_index = index - PLAY_CARD\n",
        "\n",
        "    if correct_index >= CARDS_IN_HAND:\n",
        "        correct_index += 1\n",
        "\n",
        "    new_cards = new_cards[:correct_index] + '.' + new_cards[correct_index+1:]\n",
        "    return new_cards\n",
        "\n",
        "def get_infoset_name(cards, history):\n",
        "    return cards + '#' + history"
      ],
      "metadata": {
        "id": "Ckj2bcelAz6X"
      },
      "id": "Ckj2bcelAz6X",
      "execution_count": 5,
      "outputs": []
    },
    {
      "cell_type": "markdown",
      "id": "e1ca9b95",
      "metadata": {
        "heading_collapsed": true,
        "id": "e1ca9b95"
      },
      "source": [
        "# Node and CFR definition"
      ]
    },
    {
      "cell_type": "markdown",
      "source": [
        "## Node"
      ],
      "metadata": {
        "id": "05tBK7d4__ao"
      },
      "id": "05tBK7d4__ao"
    },
    {
      "cell_type": "code",
      "execution_count": 6,
      "id": "005f845e",
      "metadata": {
        "hidden": true,
        "id": "005f845e"
      },
      "outputs": [],
      "source": [
        "class Node:\n",
        "\n",
        "    def __init__(self, info_set_id, possible_actions):\n",
        "        self.n_visits = 0\n",
        "        self.info_set = info_set_id\n",
        "        self.possible_actions = possible_actions\n",
        "\n",
        "        self.strategy = [0] * NUM_ACTIONS\n",
        "        self.regret_sum = [0] * NUM_ACTIONS\n",
        "        self.strategy_sum = [0] * NUM_ACTIONS\n",
        "\n",
        "\n",
        "    def get_strategy(self, p_opponent):\n",
        "        normalizing_sum = 0\n",
        "\n",
        "        for action in self.possible_actions:\n",
        "            self.strategy[action] = self.regret_sum[action]\\\n",
        "                                    if self.regret_sum[action] > 0\\\n",
        "                                    else 0\n",
        "\n",
        "            normalizing_sum += self.strategy[action]\n",
        "\n",
        "        for action in self.possible_actions:\n",
        "            if normalizing_sum > 0:\n",
        "                self.strategy[action] /= normalizing_sum\n",
        "            else:\n",
        "                self.strategy[action] = 1/len(self.possible_actions)\n",
        "\n",
        "            self.strategy_sum[action] += p_opponent*self.strategy[action]\n",
        "\n",
        "        return self.strategy\n",
        "\n",
        "\n",
        "    def get_average_strategy(self):\n",
        "        avg_strategy = [0] * NUM_ACTIONS\n",
        "        normalizing_sum = sum(self.strategy_sum)\n",
        "\n",
        "        for action in self.possible_actions:\n",
        "            if normalizing_sum > 0:\n",
        "                avg_strategy[action] = self.strategy_sum[action]/normalizing_sum\n",
        "            else:\n",
        "                avg_strategy[action] = 1/len(self.possible_actions)\n",
        "\n",
        "        return avg_strategy\n",
        "\n",
        "\n",
        "    def __str__(self):\n",
        "        # o Infomation Set é definido pela carta na mao do jogador e a sequencia de acoes\n",
        "        return f'(V: {self.n_visits}) {self.info_set}: {self.get_average_strategy()}'"
      ]
    },
    {
      "cell_type": "markdown",
      "source": [
        "## CFR"
      ],
      "metadata": {
        "id": "weEu8uYcAVVH"
      },
      "id": "weEu8uYcAVVH"
    },
    {
      "cell_type": "code",
      "source": [
        "def ChanceSampling_CFR(cards, history, p0, p1):\n",
        "    n_plays = len(history)\n",
        "\n",
        "    player = n_plays % 2\n",
        "    opponent = 1 - player\n",
        "\n",
        "    player_cards = cards[player]\n",
        "\n",
        "    if game.is_terminal(history):\n",
        "        game.set_payoff_value(history)\n",
        "        return game.payoff_value\n",
        "\n",
        "    # get infoset node or create new\n",
        "    info_set = get_infoset_name(player_cards, history)\n",
        "    node = NODE_MAP.get(info_set)\n",
        "\n",
        "    if node is None:\n",
        "        node_possible_actions = game.possible_actions(info_set)\n",
        "\n",
        "        node = Node(info_set, node_possible_actions)\n",
        "        NODE_MAP[info_set] = node\n",
        "\n",
        "    node.n_visits += 1\n",
        "\n",
        "    if node.n_visits < NODE_MAP['minimo'][1]:\n",
        "        NODE_MAP['minimo'] = (info_set, node.n_visits)\n",
        "    elif info_set == NODE_MAP['minimo'][0]:\n",
        "        NODE_MAP['minimo'] = (info_set, node.n_visits)\n",
        "\n",
        "    # recursively call CFR with +action +history for each action\n",
        "    player_probability = (p0 if player == 0 else p1)\n",
        "    strategy = node.get_strategy(player_probability)\n",
        "\n",
        "    util = [0] * NUM_ACTIONS\n",
        "    node_util = 0\n",
        "\n",
        "    possible_actions = node.possible_actions\n",
        "    for action in possible_actions:\n",
        "        next_history = history + get_string(action, info_set)\n",
        "        next_cards = cards.copy()\n",
        "\n",
        "        if action not in VOICE_ACTIONS:\n",
        "            next_cards[player] = play_card(action, player_cards)\n",
        "\n",
        "        util[action] = -ChanceSampling_CFR(next_cards, next_history, p0*strategy[action], p1)\\\n",
        "                       if player == 0 else \\\n",
        "                       -ChanceSampling_CFR(next_cards, next_history, p0, p1*strategy[action])\n",
        "\n",
        "        node_util += strategy[action]*util[action]\n",
        "\n",
        "    # accumulate counterfactual regret for each action\n",
        "    for action in possible_actions:\n",
        "        regret = util[action] - node_util\n",
        "        node.regret_sum[action] += player_probability * regret\n",
        "\n",
        "    return node_util"
      ],
      "metadata": {
        "id": "ztZiUgCdAVGr"
      },
      "id": "ztZiUgCdAVGr",
      "execution_count": 7,
      "outputs": []
    },
    {
      "cell_type": "markdown",
      "source": [
        "* Identificador do **infoset** será definido como o histórico de ações tomadas e as cartas na mão do jogador.\n",
        "\n",
        "* Caracteres especiais:\n",
        "\n",
        "    * \\# -> separa cartas do histórico\n",
        "    * | -> separa mão dos jogadores de um mesmo time\n",
        "    * . -> indica que a carta daquela posição já foi jogada\n",
        "    * \\* -> indica que não é possível ver a carta\n",
        "\n",
        "* Exemplo: `ZR|.N#bcRN`"
      ],
      "metadata": {
        "id": "42-oxk1bCXBa"
      },
      "id": "42-oxk1bCXBa"
    },
    {
      "cell_type": "markdown",
      "source": [
        "# Treino"
      ],
      "metadata": {
        "id": "BY5mX3Hmp6Lv"
      },
      "id": "BY5mX3Hmp6Lv"
    },
    {
      "cell_type": "code",
      "source": [
        "def sample_cards():\n",
        "    complete_hands = []\n",
        "    teams = np.random.choice(CARDS_DECK,\n",
        "                             size=(N_PLAYERS, CARDS_PER_TEAM, CARDS_IN_HAND),\n",
        "                             replace=False)\n",
        "\n",
        "    for team in teams:\n",
        "        team_hand = []\n",
        "        for hand in team:\n",
        "            cards = ''\n",
        "            for card in hand:\n",
        "                cards += CARD_NAME[card]\n",
        "\n",
        "            team_hand.append(cards)\n",
        "        complete_hands.append('|'.join(team_hand))\n",
        "\n",
        "    return complete_hands"
      ],
      "metadata": {
        "id": "uH58PGrF902s"
      },
      "id": "uH58PGrF902s",
      "execution_count": 8,
      "outputs": []
    },
    {
      "cell_type": "markdown",
      "source": [
        "## Treino por estabilidade"
      ],
      "metadata": {
        "id": "Rl32ZgCN_MB9"
      },
      "id": "Rl32ZgCN_MB9"
    },
    {
      "cell_type": "code",
      "source": [
        "def stable_train():\n",
        "    util_history = []\n",
        "    proportion_history = []\n",
        "\n",
        "    iterations = 0\n",
        "    n_estability = 0\n",
        "    previous_set_number = 0\n",
        "\n",
        "    start_time = time()\n",
        "\n",
        "    while True:\n",
        "        reached_estability = (n_estability >= MIN_ESTABILITY)\n",
        "        visited_minimun = (NODE_MAP['minimo'][1] >= MIN_VISITS)\n",
        "\n",
        "        if  reached_estability and visited_minimun:\n",
        "            break\n",
        "\n",
        "        iterations += 1\n",
        "        team_cards = sample_cards()\n",
        "\n",
        "        new_util = ChanceSampling_CFR(team_cards, \"\", 1, 1)\n",
        "        current_set_number = len(NODE_MAP)\n",
        "\n",
        "        util_history.append(new_util)\n",
        "        proportion_history.append(sum(util_history)/iterations)\n",
        "\n",
        "        if current_set_number != previous_set_number:\n",
        "            previous_set_number = current_set_number\n",
        "            n_estability = 0\n",
        "        else:\n",
        "            n_estability += 1\n",
        "\n",
        "    end_time = time()\n",
        "\n",
        "    print(f'Elapsed time: {end_time - start_time:.2f}s')\n",
        "    print(f'Total de iteracoes: {iterations}')\n",
        "    print(f'Avg game value: {sum(util_history)/iterations}')\n",
        "\n",
        "    return (proportion_history, iterations)"
      ],
      "metadata": {
        "id": "B9iSR9ifqoFt"
      },
      "id": "B9iSR9ifqoFt",
      "execution_count": 9,
      "outputs": []
    },
    {
      "cell_type": "code",
      "source": [
        "MIN_ESTABILITY = 50\n",
        "MIN_VISITS = 100\n",
        "\n",
        "NODE_MAP = OrderedDict()\n",
        "NODE_MAP['minimo'] = ('#', 10)\n",
        "\n",
        "game = SimpleTruco()\n",
        "avg_util, iterations = stable_train()"
      ],
      "metadata": {
        "colab": {
          "base_uri": "https://localhost:8080/"
        },
        "id": "kJS1QpRNrEG-",
        "outputId": "6aa56f02-ee72-4729-fbc8-58d7dbac9388"
      },
      "id": "kJS1QpRNrEG-",
      "execution_count": 10,
      "outputs": [
        {
          "output_type": "stream",
          "name": "stdout",
          "text": [
            "Elapsed time: 2.40s\n",
            "Total de iteracoes: 3341\n",
            "Avg game value: -0.09629315594775935\n"
          ]
        }
      ]
    },
    {
      "cell_type": "code",
      "source": [
        "len(NODE_MAP)"
      ],
      "metadata": {
        "colab": {
          "base_uri": "https://localhost:8080/"
        },
        "id": "XGrDQziKz_mF",
        "outputId": "287564ed-3686-4660-f9ad-b5fa6e296ec7"
      },
      "id": "XGrDQziKz_mF",
      "execution_count": 11,
      "outputs": [
        {
          "output_type": "execute_result",
          "data": {
            "text/plain": [
              "799"
            ]
          },
          "metadata": {},
          "execution_count": 11
        }
      ]
    },
    {
      "cell_type": "code",
      "source": [
        "plt.scatter(y=avg_util, x=np.arange(iterations), s=10)\n",
        "plt.axline((0,0), slope=0, color='red', linestyle=':', zorder=0)\n",
        "plt.xlabel('Iterações')\n",
        "plt.ylabel('Utilidade média')\n",
        "plt.title('Convergência da utilidade média')\n",
        "plt.show()"
      ],
      "metadata": {
        "colab": {
          "base_uri": "https://localhost:8080/",
          "height": 472
        },
        "id": "59gDOQAU_q7z",
        "outputId": "cd96e486-3051-4ee7-b772-3ad37be81e59"
      },
      "id": "59gDOQAU_q7z",
      "execution_count": 12,
      "outputs": [
        {
          "output_type": "display_data",
          "data": {
            "text/plain": [
              "<Figure size 640x480 with 1 Axes>"
            ],
            "image/png": "[encoded data removed]"
          },
          "metadata": {}
        }
      ]
    },
    {
      "cell_type": "markdown",
      "source": [
        "## Treino puro"
      ],
      "metadata": {
        "id": "uKYnetnO9v43"
      },
      "id": "uKYnetnO9v43"
    },
    {
      "cell_type": "code",
      "source": [
        "def pure_train(iterations):\n",
        "    util = 0\n",
        "\n",
        "    start_time = time()\n",
        "\n",
        "    for i in range(iterations):\n",
        "        team_cards = sample_cards()\n",
        "        util += ChanceSampling_CFR(team_cards, \"\", 1, 1)\n",
        "\n",
        "    end_time = time()\n",
        "\n",
        "    print('#### Pure training')\n",
        "    print(f'Elapsed time: {end_time - start_time:.2f}s')\n",
        "    print(f'Avg game value: {util/iterations}')\n",
        "    return"
      ],
      "metadata": {
        "id": "jAoGjE2A92ss"
      },
      "id": "jAoGjE2A92ss",
      "execution_count": 13,
      "outputs": []
    },
    {
      "cell_type": "code",
      "source": [
        "NODE_MAP = OrderedDict()\n",
        "NODE_MAP['minimo'] = ('#', 10)\n",
        "\n",
        "game = SimpleTruco()\n",
        "pure_train(iterations = 3500)"
      ],
      "metadata": {
        "colab": {
          "base_uri": "https://localhost:8080/"
        },
        "id": "Ss13OUhd-rZN",
        "outputId": "788fb9d0-510c-436f-985a-3d02179cf303"
      },
      "id": "Ss13OUhd-rZN",
      "execution_count": 14,
      "outputs": [
        {
          "output_type": "stream",
          "name": "stdout",
          "text": [
            "#### Pure training\n",
            "Elapsed time: 2.22s\n",
            "Avg game value: -0.057120983096862143\n"
          ]
        }
      ]
    },
    {
      "cell_type": "code",
      "source": [
        "len(NODE_MAP)"
      ],
      "metadata": {
        "colab": {
          "base_uri": "https://localhost:8080/"
        },
        "id": "A8MA37oD_ivr",
        "outputId": "6a02623e-84c0-46ed-9b81-79ed98d50b25"
      },
      "id": "A8MA37oD_ivr",
      "execution_count": 15,
      "outputs": [
        {
          "output_type": "execute_result",
          "data": {
            "text/plain": [
              "799"
            ]
          },
          "metadata": {},
          "execution_count": 15
        }
      ]
    },
    {
      "cell_type": "markdown",
      "source": [
        "##### Visualização Node Map"
      ],
      "metadata": {
        "id": "cw91ZMioAu9D"
      },
      "id": "cw91ZMioAu9D"
    },
    {
      "cell_type": "code",
      "source": [
        "for node in NODE_MAP.values():\n",
        "    print(node)"
      ],
      "metadata": {
        "id": "CvHtnFQ_5Gwq"
      },
      "id": "CvHtnFQ_5Gwq",
      "execution_count": null,
      "outputs": []
    },
    {
      "cell_type": "markdown",
      "id": "ede17cc9",
      "metadata": {
        "id": "ede17cc9"
      },
      "source": [
        "# Jogando\n",
        "\n",
        "Seção destinada a implementar uma interface que possibilite testar o jogo Simple Truco, bem como testar duas políticas CFR jogando entre si."
      ]
    },
    {
      "cell_type": "markdown",
      "source": [
        "## Modelagem\n",
        "\n",
        "Implementação das políticas e do controlador para ser possível jogar."
      ],
      "metadata": {
        "id": "O9wAlgV9jeef"
      },
      "id": "O9wAlgV9jeef"
    },
    {
      "cell_type": "code",
      "source": [
        "# interface para politicas, todas devem implementar o metodo take_action\n",
        "class Policy(ABC):\n",
        "\n",
        "    @abstractmethod\n",
        "    def take_action(self):\n",
        "        return"
      ],
      "metadata": {
        "id": "yMNdT7XCabmc"
      },
      "id": "yMNdT7XCabmc",
      "execution_count": 16,
      "outputs": []
    },
    {
      "cell_type": "code",
      "source": [
        "class HumanPolicy(Policy):\n",
        "\n",
        "    def take_action(self, infoset):\n",
        "        action = -1\n",
        "\n",
        "        self.print_game_guide(infoset)\n",
        "\n",
        "        action = int(input('O que ira fazer? '))\n",
        "        clear_output(wait=True)\n",
        "\n",
        "        return action\n",
        "\n",
        "    def print_game_guide(self, infoset):\n",
        "        hand_cards, history = infoset.split('#')\n",
        "\n",
        "        print(f'Jogo ate aqui: {history}')\n",
        "\n",
        "        print('\\nLegenda para acoes:')\n",
        "        print('\\n0 -> Aceitar truco\\n1 -> Correr...')\n",
        "        print('2 -> TRUCO!\\n3+ -> Jogar carta', end='\\n\\n')\n",
        "\n",
        "        print(f'Cartas na mao -> {hand_cards}')\n",
        "        return\n",
        "\n",
        "\n",
        "class CFRPolicy(Policy):\n",
        "\n",
        "    def __init__(self, NODE_MAP):\n",
        "        self.actions = [i for i in range(NUM_ACTIONS)]\n",
        "        self.NODE_MAP = NODE_MAP\n",
        "\n",
        "    def take_action(self, infoset):\n",
        "        infoset_node = self.NODE_MAP[infoset]\n",
        "        action_probability = infoset_node.get_average_strategy()\n",
        "\n",
        "        action_vector = np.random.choice(self.actions,\n",
        "                                         size=1,\n",
        "                                         p=action_probability)\n",
        "\n",
        "        action = action_vector[0]\n",
        "        return action"
      ],
      "metadata": {
        "id": "LOR2qP-_0sQd"
      },
      "id": "LOR2qP-_0sQd",
      "execution_count": 17,
      "outputs": []
    },
    {
      "cell_type": "code",
      "source": [
        "class PlayGame():\n",
        "\n",
        "    def __init__(self, policy_0, policy_1, game):\n",
        "        self.players = [policy_0, policy_1]\n",
        "        self.game = game\n",
        "        self.turn = 0\n",
        "\n",
        "\n",
        "    def play_game(self, verbose=False):\n",
        "        all_cards = sample_cards()\n",
        "        history = ''\n",
        "\n",
        "        while True:\n",
        "            player_cards = all_cards[self.turn]\n",
        "            current_player = self.players[self.turn]\n",
        "\n",
        "            infoset = get_infoset_name(player_cards, history)\n",
        "\n",
        "            if self.game.is_terminal(history):\n",
        "                break\n",
        "\n",
        "            possible_actions = self.game.possible_actions(infoset)\n",
        "            action_made = -1\n",
        "\n",
        "            if verbose:\n",
        "                print(f'Acoes possiveis: {possible_actions}')\n",
        "\n",
        "            while action_made not in possible_actions:\n",
        "                action_made = current_player.take_action(infoset)\n",
        "\n",
        "            if action_made not in VOICE_ACTIONS:\n",
        "                all_cards[self.turn] = play_card(action_made, player_cards)\n",
        "\n",
        "            self.turn = (self.turn + 1)%2\n",
        "            history += get_string(action_made, infoset)\n",
        "\n",
        "            if verbose:\n",
        "                clear_output(wait=True)\n",
        "\n",
        "        winner_player = self.game.get_winner(history)\n",
        "        return (winner_player, infoset)"
      ],
      "metadata": {
        "id": "I1_fb2G_7P9Z"
      },
      "id": "I1_fb2G_7P9Z",
      "execution_count": 28,
      "outputs": []
    },
    {
      "cell_type": "markdown",
      "source": [
        "## Jogo _Humano **x** CFR_"
      ],
      "metadata": {
        "id": "N_WT-fDzjROk"
      },
      "id": "N_WT-fDzjROk"
    },
    {
      "cell_type": "code",
      "source": [
        "player_0 = HumanPolicy()\n",
        "player_1 = CFRPolicy(NODE_MAP)\n",
        "simple_truco = SimpleTruco()\n",
        "\n",
        "new_game = PlayGame(player_0, player_1, simple_truco)"
      ],
      "metadata": {
        "id": "KdG7Hf3izWCa"
      },
      "id": "KdG7Hf3izWCa",
      "execution_count": 29,
      "outputs": []
    },
    {
      "cell_type": "code",
      "source": [
        "winner, final = new_game.play_game(verbose=True)\n",
        "\n",
        "print(f'Ganhador -> {winner}')\n",
        "print(f'Final -> {final}')"
      ],
      "metadata": {
        "colab": {
          "base_uri": "https://localhost:8080/"
        },
        "id": "mYd3ZhrYBHSC",
        "outputId": "571a6238-5e5c-415d-f3e8-ddacf1dc3aff"
      },
      "id": "mYd3ZhrYBHSC",
      "execution_count": 39,
      "outputs": [
        {
          "output_type": "stream",
          "name": "stdout",
          "text": [
            "Ganhador -> 1\n",
            "Final -> .|R#RNNbp\n"
          ]
        }
      ]
    },
    {
      "cell_type": "markdown",
      "source": [
        "## Jogo _CFR **x** CFR_"
      ],
      "metadata": {
        "id": "eSzYfk7pmcC3"
      },
      "id": "eSzYfk7pmcC3"
    },
    {
      "cell_type": "code",
      "source": [
        "# parametros para testes\n",
        "n_games = int(1e+3)\n",
        "cards = [10, 5, 5, 0, 0]\n",
        "\n",
        "win_history = {\n",
        "    0: 0,\n",
        "    1: 0,\n",
        "    -1: 0\n",
        "}\n",
        "\n",
        "player_0 = CFRPolicy(NODE_MAP)\n",
        "player_1 = CFRPolicy(NODE_MAP)"
      ],
      "metadata": {
        "id": "_4M1sR_qmbWE"
      },
      "id": "_4M1sR_qmbWE",
      "execution_count": 22,
      "outputs": []
    },
    {
      "cell_type": "code",
      "source": [
        "for i in tqdm(range(n_games)):\n",
        "    shuffle(cards)\n",
        "\n",
        "    new_game = PlayGame(player_0, player_1, game)\n",
        "\n",
        "    winner, infoset = new_game.play_game()\n",
        "    win_history[winner] += 1\n",
        "\n",
        "print(f'\\n{win_history}')"
      ],
      "metadata": {
        "colab": {
          "base_uri": "https://localhost:8080/"
        },
        "id": "t_LhO0cZLJYw",
        "outputId": "636258de-0525-4fa1-c06c-ca264a9aa4ab"
      },
      "id": "t_LhO0cZLJYw",
      "execution_count": 23,
      "outputs": [
        {
          "output_type": "stream",
          "name": "stderr",
          "text": [
            "100%|██████████| 1000/1000 [00:00<00:00, 3059.92it/s]"
          ]
        },
        {
          "output_type": "stream",
          "name": "stdout",
          "text": [
            "\n",
            "{0: 445, 1: 550, -1: 5}\n"
          ]
        },
        {
          "output_type": "stream",
          "name": "stderr",
          "text": [
            "\n"
          ]
        }
      ]
    },
    {
      "cell_type": "markdown",
      "source": [
        "* Realizando $1.000$ jogos entre dois jogadores com a `CFRPolicy` o desempenho foi como o esperando, sinalizando uma implementação correta do algoritmo.\n",
        "\n",
        "* Uma das hipóteses para o leve desequilíbrio para o segundo jogador (P1) é o jogo ainda ser muito simples. Uma vez que P1 sempre joga com mais informações na mesa que P0, terá uma vantagem em calcular melhor o retorno de suas ações.\n",
        "\n",
        "* Taxa de vitórias:\n",
        "    - Jogador 0 (P0): $44,5$%\n",
        "    - Jogador 1 (P1): $55,0$%\n",
        "    - Empate: $00,5$%\n"
      ],
      "metadata": {
        "id": "dJba0eRmPZyh"
      },
      "id": "dJba0eRmPZyh"
    },
    {
      "cell_type": "markdown",
      "source": [
        "# Treino com testes\n",
        "implementar treino que joga contra si"
      ],
      "metadata": {
        "id": "yHSp8qbgFvQy"
      },
      "id": "yHSp8qbgFvQy"
    }
  ],
  "metadata": {
    "kernelspec": {
      "display_name": "Python 3",
      "name": "python3"
    },
    "language_info": {
      "codemirror_mode": {
        "name": "ipython",
        "version": 3
      },
      "file_extension": ".py",
      "mimetype": "text/x-python",
      "name": "python",
      "nbconvert_exporter": "python",
      "pygments_lexer": "ipython3",
      "version": "3.10.12"
    },
    "toc": {
      "base_numbering": 1,
      "nav_menu": {},
      "number_sections": true,
      "sideBar": true,
      "skip_h1_title": false,
      "title_cell": "Table of Contents",
      "title_sidebar": "Contents",
      "toc_cell": false,
      "toc_position": {},
      "toc_section_display": true,
      "toc_window_display": false
    },
    "varInspector": {
      "cols": {
        "lenName": 16,
        "lenType": 16,
        "lenVar": 40
      },
      "kernels_config": {
        "python": {
          "delete_cmd_postfix": "",
          "delete_cmd_prefix": "del ",
          "library": "var_list.py",
          "varRefreshCmd": "print(var_dic_list())"
        },
        "r": {
          "delete_cmd_postfix": ") ",
          "delete_cmd_prefix": "rm(",
          "library": "var_list.r",
          "varRefreshCmd": "cat(var_dic_list()) "
        }
      },
      "types_to_exclude": [
        "module",
        "function",
        "builtin_function_or_method",
        "instance",
        "_Feature"
      ],
      "window_display": false
    },
    "colab": {
      "provenance": [],
      "collapsed_sections": [
        "zeHYwnAqAzr9",
        "05tBK7d4__ao",
        "7b42c025",
        "fVg4pAYnUMBA",
        "BY5mX3Hmp6Lv",
        "cw91ZMioAu9D",
        "ede17cc9",
        "O9wAlgV9jeef",
        "N_WT-fDzjROk",
        "eSzYfk7pmcC3"
      ],
      "include_colab_link": true
    }
  },
  "nbformat": 4,
  "nbformat_minor": 5
}