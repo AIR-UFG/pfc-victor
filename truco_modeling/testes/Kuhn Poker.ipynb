{
 "cells": [
  {
   "cell_type": "markdown",
   "id": "c60c72ee",
   "metadata": {},
   "source": [
    "# Counterfactual Regret Minimization"
   ]
  },
  {
   "cell_type": "code",
   "execution_count": null,
   "id": "0201550e",
   "metadata": {},
   "outputs": [],
   "source": [
    "from random import shuffle\n",
    "from typing import List\n",
    "from collections import OrderedDict\n",
    "from dataclasses import dataclass"
   ]
  },
  {
   "cell_type": "markdown",
   "id": "f9066dfa",
   "metadata": {},
   "source": [
    "## Controle do estado\n",
    "\n",
    "* Para a implementação do CFR é necessária a construção de um `Node` resposável por analisar o estado atual e fazer os cálculos de acordo com a estratégia atual.\n",
    "\n",
    "* Notações importantes:\n",
    "    1. $S_i$ conjunto finito de escolhas/ações do jogador $i$\n",
    "    2. $A = S_1 \\times \\cdots \\times S_n$ conjunto com todas as combinações possíveis de ações simultâneas de todos os jogadores $\\therefore A = \\{a_1, \\cdots a_n\\}$, $a$ será um perfil de ação.\n",
    "    \n",
    "* Logo, para um perfil $a \\in A$ o 'regret' de um jogador $i$ por não ter tomado determinada ação será:\n",
    "$$u(s'_i, s_{-i}) - u(a)$$\n",
    "\n",
    "* Vetores da classe:\n",
    "    1. `regret_sum` -> Soma do arrependimento de não ter tomado determinada ação no atual `info_set`\n",
    "    2. `strategy` -> Probabilidades das ações que devem ser escolhidas no atual `info_set`\n",
    "    3. `strategy_sum` -> Soma de todas as estratégias utilizadas no atual `info_set`"
   ]
  },
  {
   "cell_type": "code",
   "execution_count": 3,
   "id": "bbb8b1fb",
   "metadata": {
    "code_folding": []
   },
   "outputs": [],
   "source": [
    "class Node:\n",
    "    \n",
    "    def __init__(self, info_set_id):\n",
    "        self.info_set = info_set_id\n",
    "        self.regret_sum = [0] * NUM_ACTIONS\n",
    "        self.strategy = [0] * NUM_ACTIONS\n",
    "        self.strategy_sum = [0] * NUM_ACTIONS\n",
    "    \n",
    "    \n",
    "    def get_strategy(self, realization_weight):\n",
    "        # compute strategy through regret-matching\n",
    "        \n",
    "        normalizing_sum = 0\n",
    "        \n",
    "        for a in range(NUM_ACTIONS):\n",
    "            self.strategy[a] = self.regret_sum[a] if self.regret_sum[a] > 0 else 0\n",
    "            normalizing_sum += self.strategy[a]\n",
    "    \n",
    "        for a in range(NUM_ACTIONS):\n",
    "            if normalizing_sum > 0:\n",
    "                self.strategy[a] /= normalizing_sum\n",
    "            else:\n",
    "                self.strategy[a] = 1/NUM_ACTIONS\n",
    "                \n",
    "            self.strategy_sum[a] += realization_weight*self.strategy[a]\n",
    "            \n",
    "        return self.strategy\n",
    "    \n",
    "    \n",
    "    def get_average_strategy(self):\n",
    "        avg_strategy = [0] * NUM_ACTIONS\n",
    "        normalizing_sum = sum(self.strategy_sum)\n",
    "            \n",
    "        for a in range(NUM_ACTIONS):\n",
    "            if normalizing_sum > 0:\n",
    "                avg_strategy[a] = self.strategy_sum[a]/normalizing_sum\n",
    "            else:\n",
    "                avg_strategy[a] = 1/NUM_ACTIONS\n",
    "                \n",
    "        return avg_strategy\n",
    "    \n",
    "    \n",
    "    def __str__(self):\n",
    "        # o Infomation Set é definido pela carta na mao do jogador e a sequencia de acoes\n",
    "        return f'{self.info_set}: {self.get_average_strategy()}'"
   ]
  },
  {
   "cell_type": "markdown",
   "id": "bb66f6ac",
   "metadata": {},
   "source": [
    "## Implementação CFR\n",
    "\n",
    "* Notações importantes:\n",
    "    1. $I$ é um information set\n",
    "    2. $A(I)$ são as ações permitidas em $I$\n",
    "    3. $\\sigma^t_i$ estratégia do jogador $i$ em um InfoSet $I_i$ com ações $A(I_i)$ com as probabilidades de escolher $a \\in A(I_i)$ no tempo $t$\n",
    "    4. $\\sigma^t$ a estratégia de todos os jogadores juntos em $t$\n",
    "    5. $\\sigma_{I \\rightarrow a}$ perfil em que a ação $a$ sempre é escolhida em $I$\n",
    "    6. $h$ sequência de ações\n",
    "    7. $\\pi^\\sigma(h)$ probabilidade de se ter o histórico $h$ com a estratégia $\\sigma$\n",
    "    8. $\\pi^\\sigma(I)$ probabilidade de chegar no InfoSet $I$\n",
    "    9. $\\pi_{-i}^\\sigma(I)$ probabilidade 'counterfactual' de alcançar $I$ considerando que o jogador atual $i$ tem probabilidade $1$ de se alcançar o InfoState\n",
    "    10. $Z$ conjunto com todos os $h$ terminais\n",
    "    11. $h \\sqsubset z, \\forall z \\in Z$ é a notação utilizada para o prefixo de $z$, definindo um histórico necessariamente não terminal"
   ]
  },
  {
   "cell_type": "markdown",
   "id": "96f245d9",
   "metadata": {},
   "source": [
    "- **Counterfactual Value** com histórico não terminal $h$:\n",
    "$$v_i(\\sigma, h) = \\sum_{z\\in Z, h \\sqsubset z} \\pi^\\sigma_{-i}(h, z)\\cdot\\pi^\\sigma(h, z)\\cdot u_i(z)$$\n",
    "\n",
    "Isto é, o valor de um InfoSet $I$ para o jogador $i$ utilizando a estratégia $\\sigma$ com o histórico $h$ é somar a chance do adversário estar em $I$ com o histórico $h$, a chance do jogador $i$ atingir um estado terminal com a estratégia $h$ e a utility do estado terminal $z$."
   ]
  },
  {
   "cell_type": "markdown",
   "id": "319d429c",
   "metadata": {},
   "source": [
    "- **Counterfactual Regret** de não ter escolhido $a$ em $I$:\n",
    "$$ r(h, a) = v_i(\\sigma_{I \\rightarrow a}, h) - v_i(\\sigma, h) $$\n",
    "$$\\therefore r(I, a) = \\sum_{h \\in I} r(h, a)$$"
   ]
  },
  {
   "cell_type": "code",
   "execution_count": null,
   "id": "87409978",
   "metadata": {},
   "outputs": [],
   "source": [
    "# game definitions\n",
    "PASS, BET, NUM_ACTIONS = 0, 1, 2\n",
    "\n",
    "# info_set: str --> Node    \n",
    "node_map = OrderedDict()"
   ]
  },
  {
   "cell_type": "code",
   "execution_count": null,
   "id": "56bd16bc",
   "metadata": {},
   "outputs": [],
   "source": [
    "class KuhnPoker():\n",
    "    \n",
    "    def __init__(self):\n",
    "        self.cards = [0, 1, 2]\n",
    "        self.game_util = 0\n",
    "        self.node_map = OrderedDict()\n",
    "        self.current_infoset = None\n",
    "        self.n_plays = 0\n",
    "        self.history = \"\"\n",
    "        self.current_player = None\n",
    "        self.current_opponent = None\n",
    "        self.payoff_value = 0\n",
    "        \n",
    "    \n",
    "    def shuffle_cards(self):\n",
    "        shuffle(self.cards)\n",
    "        return\n",
    "    \n",
    "    \n",
    "    def get_n_plays(self, history):\n",
    "        self.history = history\n",
    "        self.n_plays = len(self.history)\n",
    "        return self.n_plays\n",
    "    \n",
    "    \n",
    "    def get_player_opponent_id(self):\n",
    "        player_id = self.n_plays % 2\n",
    "        opponent_id = 1 - player_id\n",
    "        \n",
    "        self.current_player = player_id\n",
    "        self.current_opponent = opponent_id\n",
    "        \n",
    "        return (player_id, opponent_id)\n",
    "    \n",
    "    \n",
    "    def is_terminal_state(self):\n",
    "        is_terminal = False\n",
    "        payoff = 0\n",
    "        \n",
    "        if self.n_plays > 1:\n",
    "            terminal_pass = (self.history[-1] == 'p')\n",
    "            double_bet = (self.history[-2:] == 'bb')\n",
    "            \n",
    "            player_wins_opponent = (self.cards[self.current_player] > self.cards[self.current_opponent])\n",
    "            \n",
    "            if terminal_pass:\n",
    "                is_terminal = True\n",
    "                \n",
    "                if self.history == 'pp':\n",
    "                    payoff = 1 if player_wins_opponent else -1\n",
    "                else:\n",
    "                    payoff = 1\n",
    "                    \n",
    "            elif double_bet:\n",
    "                payoff = 2 if player_wins_opponent else -2\n",
    "            \n",
    "        return (is_terminal, payoff)\n",
    "    \n",
    "    \n",
    "    def set_current_node(self, info_set):\n",
    "        node = self.node_map.get(info_set)\n",
    "        \n",
    "        if node is None:\n",
    "            self.node_map[info_set] = Node(info_set)\n",
    "\n",
    "        return\n",
    "    \n",
    "    \n",
    "    def get_state_probability(self, probability_list):\n",
    "        return probability_list[self.current_player]\n",
    "    \n",
    "    \n",
    "    def get_current_strategy(self, state_reach_probability, info_set):\n",
    "        strategy = self.node_map[info_set].get_strategy(state_reach_probability)\n",
    "        return strategy\n",
    "    \n",
    "    \n",
    "    def get_possible_actions(self):\n",
    "        return [0, 1]\n",
    "    \n",
    "    \n",
    "    def take_action(self, action):\n",
    "        action = ('p' if action == 0 else 'b')\n",
    "        return self.history + action\n",
    "    \n",
    "    def update_node_regret(self, action, regret, state_probability):\n",
    "        self.node_map[self.current_infoset].regret_sum[action] += state_probability * regret\n",
    "        return\n",
    "        \n",
    "        \n",
    "    def get_player_hand(self):\n",
    "        return self.cards[self.current_player]"
   ]
  },
  {
   "cell_type": "code",
   "execution_count": 4,
   "id": "1fb48bd6",
   "metadata": {
    "code_folding": []
   },
   "outputs": [],
   "source": [
    "def ChanceSampling_CFR(game, history, p0, p1):\n",
    "    n_plays = game.get_n_plays(history)\n",
    "    player, opponent = game.get_player_opponent_id()\n",
    "    \n",
    "    is_terminal, payoff = game.is_terminal_state()\n",
    "    \n",
    "    if is_terminal:\n",
    "        return payoff\n",
    "    \n",
    "    player_hand = game.get_player_hand()\n",
    "    info_set = f\"{player_hand}{history}\"\n",
    "    \n",
    "    game.set_current_node(info_set)\n",
    "        \n",
    "    # recursively call CFR with +action +history for each action\n",
    "    state_probability = game.get_state_probability([p0, p1])\n",
    "    strategy = game.get_current_strategy(state_probability, info_set)\n",
    "    \n",
    "    util = [0] * NUM_ACTIONS\n",
    "    node_util = 0\n",
    "    \n",
    "    for action in game.get_possible_actions():\n",
    "        next_history = game.take_action(action)\n",
    "        \n",
    "        util[action] = -ChanceSampling_CFR(game, next_history, p0*strategy[action], p1)\\\n",
    "                       if player == 0 else \\\n",
    "                       -ChanceSampling_CFR(game, next_history, p0, p1*strategy[action])\n",
    "        \n",
    "        node_util += strategy[action]*util[action]\n",
    "        \n",
    "    # accumulate counterfactual regret for each action\n",
    "    for action in game.get_possible_actions():\n",
    "        regret = util[action] - node_util\n",
    "        game.update_node_regret(state_probability, regret)\n",
    "        \n",
    "    return node_util"
   ]
  },
  {
   "cell_type": "code",
   "execution_count": 5,
   "id": "f9d1f3f8",
   "metadata": {},
   "outputs": [],
   "source": [
    "def train(iterations):\n",
    "    cards = [1, 2, 3]\n",
    "    util = 0\n",
    "    \n",
    "    for i in range(iterations):\n",
    "        shuffle(cards)\n",
    "        util += ChanceSampling_CFR(cards, \"\", 1, 1)\n",
    "        \n",
    "    print(f'Avg game value: {util/iterations}')\n",
    "    \n",
    "    for node in node_map.values():\n",
    "        print(node)"
   ]
  },
  {
   "cell_type": "code",
   "execution_count": 7,
   "id": "5fb76d8a",
   "metadata": {},
   "outputs": [
    {
     "name": "stdout",
     "output_type": "stream",
     "text": [
      "Avg game value: 0.000215\n",
      "1: [0.9999806966878446, 1.93033121553279e-05]\n",
      "2p: [0.9999948100169638, 5.189983036169733e-06]\n",
      "1pb: [0.9999992590429808, 7.409570191613568e-07]\n",
      "2b: [3.726270568374154e-05, 0.9999627372943162]\n",
      "3: [1.4879756686218666e-06, 0.9999985120243314]\n",
      "1p: [0.9999910842979628, 8.915702037237915e-06]\n",
      "3pb: [0.5, 0.5]\n",
      "1b: [0.9999985140496604, 1.4859503395396525e-06]\n",
      "2: [0.49998662962577806, 0.5000133703742219]\n",
      "2pb: [2.525582666777594e-06, 0.9999974744173333]\n",
      "3p: [1.4866484106241842e-06, 0.9999985133515894]\n",
      "3b: [1.4866484106241842e-06, 0.9999985133515894]\n"
     ]
    }
   ],
   "source": [
    "def train(iterations):\n",
    "    kuhn_poker = KuhnPoker()\n",
    "    \n",
    "    for i in range(iterations):\n",
    "        kuhn_poker.shuffle_cards()\n",
    "        kuhn_poker.game_util += ChanceSampling_CFR(kuhn_poker, \"\", 1, 1)\n",
    "        \n",
    "    print(f'Avg game value: {kuhn_poker.game_util/iterations}')\n",
    "    \n",
    "    for node in kuhn_poker.node_map.values():\n",
    "        print(node)"
   ]
  },
  {
   "cell_type": "code",
   "execution_count": null,
   "id": "a7d1c72e",
   "metadata": {},
   "outputs": [],
   "source": []
  }
 ],
 "metadata": {
  "kernelspec": {
   "display_name": "Python 3 (ipykernel)",
   "language": "python",
   "name": "python3"
  },
  "language_info": {
   "codemirror_mode": {
    "name": "ipython",
    "version": 3
   },
   "file_extension": ".py",
   "mimetype": "text/x-python",
   "name": "python",
   "nbconvert_exporter": "python",
   "pygments_lexer": "ipython3",
   "version": "3.10.12"
  },
  "toc": {
   "base_numbering": 1,
   "nav_menu": {},
   "number_sections": true,
   "sideBar": true,
   "skip_h1_title": false,
   "title_cell": "Table of Contents",
   "title_sidebar": "Contents",
   "toc_cell": false,
   "toc_position": {},
   "toc_section_display": true,
   "toc_window_display": false
  },
  "varInspector": {
   "cols": {
    "lenName": 16,
    "lenType": 16,
    "lenVar": 40
   },
   "kernels_config": {
    "python": {
     "delete_cmd_postfix": "",
     "delete_cmd_prefix": "del ",
     "library": "var_list.py",
     "varRefreshCmd": "print(var_dic_list())"
    },
    "r": {
     "delete_cmd_postfix": ") ",
     "delete_cmd_prefix": "rm(",
     "library": "var_list.r",
     "varRefreshCmd": "cat(var_dic_list()) "
    }
   },
   "types_to_exclude": [
    "module",
    "function",
    "builtin_function_or_method",
    "instance",
    "_Feature"
   ],
   "window_display": false
  }
 },
 "nbformat": 4,
 "nbformat_minor": 5
}
