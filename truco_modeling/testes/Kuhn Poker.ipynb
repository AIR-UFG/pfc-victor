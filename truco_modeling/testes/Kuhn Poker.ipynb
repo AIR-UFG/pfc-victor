{
 "cells": [
  {
   "cell_type": "markdown",
   "id": "c60c72ee",
   "metadata": {},
   "source": [
    "# Counterfactual Regret Minimization"
   ]
  },
  {
   "cell_type": "code",
   "execution_count": 1,
   "id": "0201550e",
   "metadata": {},
   "outputs": [],
   "source": [
    "from time import time\n",
    "from random import shuffle\n",
    "from typing import List\n",
    "from collections import OrderedDict\n",
    "from dataclasses import dataclass"
   ]
  },
  {
   "cell_type": "markdown",
   "id": "f9066dfa",
   "metadata": {},
   "source": [
    "## Controle do estado\n",
    "\n",
    "* Para a implementação do CFR é necessária a construção de um `Node` resposável por analisar o estado atual e fazer os cálculos de acordo com a estratégia atual.\n",
    "\n",
    "* Notações importantes:\n",
    "    1. $S_i$ conjunto finito de escolhas/ações do jogador $i$\n",
    "    2. $A = S_1 \\times \\cdots \\times S_n$ conjunto com todas as combinações possíveis de ações simultâneas de todos os jogadores $\\therefore A = \\{a_1, \\cdots a_n\\}$, $a$ será um perfil de ação.\n",
    "    \n",
    "* Logo, para um perfil $a \\in A$ o 'regret' de um jogador $i$ por não ter tomado determinada ação será:\n",
    "$$u(s'_i, s_{-i}) - u(a)$$\n",
    "\n",
    "* Vetores da classe:\n",
    "    1. `regret_sum` -> Soma do arrependimento de não ter tomado determinada ação no atual `info_set`\n",
    "    2. `strategy` -> Probabilidades das ações que devem ser escolhidas no atual `info_set`\n",
    "    3. `strategy_sum` -> Soma de todas as estratégias utilizadas no atual `info_set`"
   ]
  },
  {
   "cell_type": "code",
   "execution_count": 2,
   "id": "bbb8b1fb",
   "metadata": {
    "code_folding": []
   },
   "outputs": [],
   "source": [
    "class Node:\n",
    "    \n",
    "    def __init__(self, info_set_id):\n",
    "        self.info_set = info_set_id\n",
    "        self.regret_sum = [0] * NUM_ACTIONS\n",
    "        self.strategy = [0] * NUM_ACTIONS\n",
    "        self.strategy_sum = [0] * NUM_ACTIONS\n",
    "        self.n_visits = 0\n",
    "    \n",
    "    \n",
    "    def get_strategy(self, realization_weight):\n",
    "        # compute strategy through regret-matching\n",
    "        \n",
    "        normalizing_sum = 0\n",
    "        \n",
    "        for a in range(NUM_ACTIONS):\n",
    "            self.strategy[a] = self.regret_sum[a] if self.regret_sum[a] > 0 else 0\n",
    "            normalizing_sum += self.strategy[a]\n",
    "    \n",
    "        for a in range(NUM_ACTIONS):\n",
    "            if normalizing_sum > 0:\n",
    "                self.strategy[a] /= normalizing_sum\n",
    "            else:\n",
    "                self.strategy[a] = 1/NUM_ACTIONS\n",
    "                \n",
    "            self.strategy_sum[a] += realization_weight*self.strategy[a]\n",
    "            \n",
    "        return self.strategy\n",
    "    \n",
    "    \n",
    "    def get_average_strategy(self):\n",
    "        avg_strategy = [0] * NUM_ACTIONS\n",
    "        normalizing_sum = sum(self.strategy_sum)\n",
    "            \n",
    "        for a in range(NUM_ACTIONS):\n",
    "            if normalizing_sum > 0:\n",
    "                avg_strategy[a] = self.strategy_sum[a]/normalizing_sum\n",
    "            else:\n",
    "                avg_strategy[a] = 1/NUM_ACTIONS\n",
    "                \n",
    "        return avg_strategy\n",
    "    \n",
    "    \n",
    "    def __str__(self):\n",
    "        # o Infomation Set é definido pela carta na mao do jogador e a sequencia de acoes\n",
    "        return f'(V: {self.n_visits}) {self.info_set}: {self.get_average_strategy()}'"
   ]
  },
  {
   "cell_type": "markdown",
   "id": "bb66f6ac",
   "metadata": {},
   "source": [
    "## Implementação CFR\n",
    "\n",
    "* Notações importantes:\n",
    "    1. $I$ é um information set\n",
    "    2. $A(I)$ são as ações permitidas em $I$\n",
    "    3. $\\sigma^t_i$ estratégia do jogador $i$ em um InfoSet $I_i$ com ações $A(I_i)$ com as probabilidades de escolher $a \\in A(I_i)$ no tempo $t$\n",
    "    4. $\\sigma^t$ a estratégia de todos os jogadores juntos em $t$\n",
    "    5. $\\sigma_{I \\rightarrow a}$ perfil em que a ação $a$ sempre é escolhida em $I$\n",
    "    6. $h$ sequência de ações\n",
    "    7. $\\pi^\\sigma(h)$ probabilidade de se ter o histórico $h$ com a estratégia $\\sigma$\n",
    "    8. $\\pi^\\sigma(I)$ probabilidade de chegar no InfoSet $I$\n",
    "    9. $\\pi_{-i}^\\sigma(I)$ probabilidade 'counterfactual' de alcançar $I$ considerando que o jogador atual $i$ tem probabilidade $1$ de se alcançar o InfoState\n",
    "    10. $Z$ conjunto com todos os $h$ terminais\n",
    "    11. $h \\sqsubset z, \\forall z \\in Z$ é a notação utilizada para o prefixo de $z$, definindo um histórico necessariamente não terminal"
   ]
  },
  {
   "cell_type": "markdown",
   "id": "96f245d9",
   "metadata": {},
   "source": [
    "- **Counterfactual Value** com histórico não terminal $h$:\n",
    "$$v_i(\\sigma, h) = \\sum_{z\\in Z, h \\sqsubset z} \\pi^\\sigma_{-i}(h, z)\\cdot\\pi^\\sigma(h, z)\\cdot u_i(z)$$\n",
    "\n",
    "Isto é, o valor de um InfoSet $I$ para o jogador $i$ utilizando a estratégia $\\sigma$ com o histórico $h$ é somar a chance do adversário estar em $I$ com o histórico $h$, a chance do jogador $i$ atingir um estado terminal com a estratégia $h$ e a utility do estado terminal $z$."
   ]
  },
  {
   "cell_type": "markdown",
   "id": "319d429c",
   "metadata": {},
   "source": [
    "- **Counterfactual Regret** de não ter escolhido $a$ em $I$:\n",
    "$$ r(h, a) = v_i(\\sigma_{I \\rightarrow a}, h) - v_i(\\sigma, h) $$\n",
    "$$\\therefore r(I, a) = \\sum_{h \\in I} r(h, a)$$"
   ]
  },
  {
   "cell_type": "code",
   "execution_count": 3,
   "id": "b5f9735f",
   "metadata": {},
   "outputs": [],
   "source": [
    "class KuhnPoker():\n",
    "    \n",
    "    def __intit__(self):\n",
    "        self.payoff_value = 0\n",
    "    \n",
    "    def is_terminal(self, history, cards):\n",
    "        n_plays = len(history)\n",
    "        terminal_state = False\n",
    "        \n",
    "        player = n_plays % 2\n",
    "        opponent = 1 - player\n",
    "        \n",
    "        if n_plays > 1:\n",
    "            terminal_pass = (history[-1] == 'p')\n",
    "            double_bet = (history[-2:] == 'bb')\n",
    "            is_playercard_higher = (cards[player] > cards[opponent])\n",
    "\n",
    "            if terminal_pass:\n",
    "                if history == 'pp':\n",
    "                    self.payoff_value = 1 if is_playercard_higher else -1\n",
    "                else:\n",
    "                    self.payoff_value = 1\n",
    "                \n",
    "                terminal_state = True\n",
    "            elif double_bet:\n",
    "                self.payoff_value = 2 if is_playercard_higher else -2\n",
    "                terminal_state = True\n",
    "                \n",
    "        return terminal_state\n",
    "    \n",
    "    \n",
    "    def possible_actions(self, history):\n",
    "        return [0, 1]"
   ]
  },
  {
   "cell_type": "code",
   "execution_count": 4,
   "id": "0d9e4db0",
   "metadata": {},
   "outputs": [],
   "source": [
    "def ChanceSampling_CFR(cards, history, p0, p1):\n",
    "    \n",
    "    n_plays = len(history)\n",
    "    \n",
    "    player = n_plays % 2\n",
    "    opponent = 1 - player\n",
    "    \n",
    "    if game.is_terminal(history, cards):\n",
    "        return game.payoff_value\n",
    "    \n",
    "    # get infoset node or create new\n",
    "    info_set = f\"{cards[player]}#{history}\"\n",
    "    node = node_map.get(info_set)\n",
    "    \n",
    "    if node is None:\n",
    "        node = Node(info_set)\n",
    "        node_map[info_set] = node\n",
    "        \n",
    "    node.n_visits += 1\n",
    "        \n",
    "    # recursively call CFR with +action +history for each action\n",
    "    player_probability = (p0 if player == 0 else p1)\n",
    "    strategy = node.get_strategy(player_probability)\n",
    "    \n",
    "    possible_actions = game.possible_actions(history)\n",
    "    util = [0] * NUM_ACTIONS\n",
    "    node_util = 0\n",
    "    \n",
    "    for action in possible_actions:\n",
    "        next_history = history + string_action[action]\n",
    "        \n",
    "        util[action] = -ChanceSampling_CFR(cards, next_history, p0*strategy[action], p1)\\\n",
    "                       if player == 0 else \\\n",
    "                       -ChanceSampling_CFR(cards, next_history, p0, p1*strategy[action])\n",
    "        \n",
    "        node_util += strategy[action]*util[action]\n",
    "        \n",
    "    # accumulate counterfactual regret for each action\n",
    "    for action in possible_actions:\n",
    "        regret = util[action] - node_util\n",
    "        node.regret_sum[action] += player_probability * regret\n",
    "        \n",
    "    return node_util"
   ]
  },
  {
   "cell_type": "code",
   "execution_count": 5,
   "id": "0b78d48e",
   "metadata": {},
   "outputs": [],
   "source": [
    "# GLOBAIS\n",
    "string_action = {\n",
    "        0: 'p',\n",
    "        1: 'b'\n",
    "    }\n",
    "      \n",
    "NUM_ACTIONS = 2\n",
    "node_map = OrderedDict()\n",
    "game = KuhnPoker()\n",
    "\n",
    "def train(iterations): \n",
    "    cards = [1, 2, 3] \n",
    "    util = 0\n",
    "    \n",
    "    start_time = time()\n",
    "    \n",
    "    for i in range(iterations):\n",
    "        shuffle(cards)\n",
    "        util += ChanceSampling_CFR(cards, \"\", 1, 1)\n",
    "        \n",
    "    end_time = time()\n",
    "    \n",
    "    print(f'Elapsed time: {end_time - start_time:.2f}s')\n",
    "    print(f'Avg game value: {util/iterations}')\n",
    "    \n",
    "    for node in node_map.values():\n",
    "        print(node)"
   ]
  },
  {
   "cell_type": "code",
   "execution_count": 6,
   "id": "1d547b56",
   "metadata": {},
   "outputs": [
    {
     "name": "stdout",
     "output_type": "stream",
     "text": [
      "Elapsed time: 10.65s\n",
      "Avg game value: 0.0018025749008384383\n",
      "(V: 333102) 1#: [0.9999898679683701, 1.0132031629951187e-05]\n",
      "(V: 333684) 2#p: [0.9999820189161003, 1.7981083899737475e-05]\n",
      "(V: 333102) 1#pb: [0.9999992494715342, 7.505284658560209e-07]\n",
      "(V: 333684) 2#b: [1.4984236583114563e-06, 0.9999985015763417]\n",
      "(V: 332534) 3#p: [4.5108169390197695e-06, 0.999995489183061]\n",
      "(V: 332534) 3#b: [1.503605646339923e-06, 0.9999984963943537]\n",
      "(V: 333722) 3#: [5.331682801232757e-06, 0.9999946683171989]\n",
      "(V: 333722) 3#pb: [0.1405047048759624, 0.8594952951240376]\n",
      "(V: 333176) 2#: [0.9999692045906785, 3.079540932155689e-05]\n",
      "(V: 333782) 1#p: [0.9999947570570012, 5.242942998723718e-06]\n",
      "(V: 333176) 2#pb: [2.5276207205525507e-05, 0.9999747237927944]\n",
      "(V: 333782) 1#b: [0.999998502016286, 1.4979837139210623e-06]\n"
     ]
    }
   ],
   "source": [
    "iterations = 1000000\n",
    "train(iterations)"
   ]
  }
 ],
 "metadata": {
  "kernelspec": {
   "display_name": "Python 3 (ipykernel)",
   "language": "python",
   "name": "python3"
  },
  "language_info": {
   "codemirror_mode": {
    "name": "ipython",
    "version": 3
   },
   "file_extension": ".py",
   "mimetype": "text/x-python",
   "name": "python",
   "nbconvert_exporter": "python",
   "pygments_lexer": "ipython3",
   "version": "3.10.12"
  },
  "toc": {
   "base_numbering": 1,
   "nav_menu": {},
   "number_sections": true,
   "sideBar": true,
   "skip_h1_title": false,
   "title_cell": "Table of Contents",
   "title_sidebar": "Contents",
   "toc_cell": false,
   "toc_position": {},
   "toc_section_display": true,
   "toc_window_display": false
  },
  "varInspector": {
   "cols": {
    "lenName": 16,
    "lenType": 16,
    "lenVar": 40
   },
   "kernels_config": {
    "python": {
     "delete_cmd_postfix": "",
     "delete_cmd_prefix": "del ",
     "library": "var_list.py",
     "varRefreshCmd": "print(var_dic_list())"
    },
    "r": {
     "delete_cmd_postfix": ") ",
     "delete_cmd_prefix": "rm(",
     "library": "var_list.r",
     "varRefreshCmd": "cat(var_dic_list()) "
    }
   },
   "types_to_exclude": [
    "module",
    "function",
    "builtin_function_or_method",
    "instance",
    "_Feature"
   ],
   "window_display": false
  }
 },
 "nbformat": 4,
 "nbformat_minor": 5
}
