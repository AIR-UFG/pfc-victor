{
 "cells": [
  {
   "cell_type": "code",
   "execution_count": 1,
   "id": "24c488e1",
   "metadata": {},
   "outputs": [],
   "source": [
    "import numpy as np"
   ]
  },
  {
   "cell_type": "markdown",
   "id": "fd1195f5",
   "metadata": {},
   "source": [
    "# Class implementation\n",
    "\n",
    "The idea behind the Deck_of_Truco class is to implement basic methods to deal and controll the cards trough out the game. Names of cards follow the pattern \\<suit\\>\\<value\\>, the same pattern used by Gymnasium.\n",
    "\n",
    "* Table for suit reference:\n",
    "\n",
    "|Suit symbol| Suit name (EN)| Suit name (PT-BR)| Suit representation|\n",
    "|---|---|---|---|\n",
    "|♥️|Hearts|Copas| **H**|\n",
    "|♣️|Clubs|Paus| **C**|\n",
    "|♦️|Diamonds|Ouros| **D**|\n",
    "|♠️|Spades|Espadas| **S**|\n",
    "\n",
    "! The \"T\" value stands for 10, just to stablish the one character per value pattern."
   ]
  },
  {
   "cell_type": "code",
   "execution_count": 2,
   "id": "39f6a2ab",
   "metadata": {},
   "outputs": [],
   "source": [
    "class Deck_of_Truco():\n",
    "    cards = ['CA', 'C2', 'C3', 'C4', 'CJ', 'CQ', 'CK',\n",
    "             'HA', 'H2', 'H3', 'H7', 'HJ', 'HQ', 'HK',\n",
    "             'DA', 'D2', 'D3', 'D7', 'DJ', 'DQ', 'DK',\n",
    "             'SA', 'S2', 'S3', 'SJ', 'SQ', 'SK']\n",
    "    \n",
    "    \n",
    "    def __init__(self):\n",
    "        self.__cards = Deck_of_Truco.cards\n",
    "        self.shuffle_cards()\n",
    "          \n",
    "        \n",
    "    def shuffle_cards(self):    \n",
    "        if self.__cards:\n",
    "            np.random.shuffle(self.__cards)\n",
    "     \n",
    "    \n",
    "    def draw_hand(self):\n",
    "        if self.__cards == []:\n",
    "            print(\"All cards were drawn!\")\n",
    "            return\n",
    "        else:\n",
    "            hand_draw = np.random.choice(self.__cards, 3, replace = False) \n",
    "            \n",
    "            self.__cards = [card for card in self.__cards\n",
    "                            if card not in hand_draw]\n",
    "            self.shuffle_cards()\n",
    "            \n",
    "            return hand_draw\n",
    "    \n",
    "    \n",
    "    def reset_cards(self):\n",
    "        self.__cards = Deck_of_Truco.cards\n",
    "        "
   ]
  },
  {
   "cell_type": "markdown",
   "id": "654f4ce7",
   "metadata": {},
   "source": [
    "## Example"
   ]
  },
  {
   "cell_type": "code",
   "execution_count": 3,
   "id": "2c63a2fa",
   "metadata": {},
   "outputs": [
    {
     "name": "stdout",
     "output_type": "stream",
     "text": [
      "Hands for team 1:\n",
      "-> ['C3' 'CQ' 'C2']\n",
      "-> ['D3' 'SJ' 'DK']\n",
      "Hands for team 2:\n",
      "-> ['D7' 'HA' 'CK']\n",
      "-> ['H7' 'DA' 'HQ']\n"
     ]
    }
   ],
   "source": [
    "deck = Deck_of_Truco()\n",
    "\n",
    "team_1 = []\n",
    "team_2 = []\n",
    "\n",
    "for i in range(4):\n",
    "    if i % 2:\n",
    "        team_1.append(deck.draw_hand())\n",
    "    else:\n",
    "        team_2.append(deck.draw_hand())\n",
    "        \n",
    "\n",
    "print(\"Hands for team 1:\")\n",
    "print(f\"-> {team_1[0]}\\n-> {team_1[1]}\")\n",
    "\n",
    "print(\"Hands for team 2:\")\n",
    "print(f\"-> {team_2[0]}\\n-> {team_2[1]}\")"
   ]
  },
  {
   "cell_type": "markdown",
   "id": "3c02923a",
   "metadata": {},
   "source": [
    "Team 1 hands:\n",
    "\n",
    "P1T1: 3♣️, Q♣️, 2♣️\n",
    "\n",
    "P2T1: 3♦️, J♠️, K♦️\n",
    "\n",
    "Team 2 hands:\n",
    "\n",
    "P1T2: 7♦️, A♥️, K♣️\n",
    "\n",
    "P2T2: 7♥️, A♦️, Q♥️"
   ]
  }
 ],
 "metadata": {
  "kernelspec": {
   "display_name": "Python 3 (ipykernel)",
   "language": "python",
   "name": "python3"
  },
  "language_info": {
   "codemirror_mode": {
    "name": "ipython",
    "version": 3
   },
   "file_extension": ".py",
   "mimetype": "text/x-python",
   "name": "python",
   "nbconvert_exporter": "python",
   "pygments_lexer": "ipython3",
   "version": "3.10.12"
  }
 },
 "nbformat": 4,
 "nbformat_minor": 5
}
