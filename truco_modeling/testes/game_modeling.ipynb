{
 "cells": [
  {
   "cell_type": "code",
   "execution_count": 1,
   "id": "bb822c25",
   "metadata": {},
   "outputs": [],
   "source": [
    "import os\n",
    "import sys\n",
    "\n",
    "current_directory = os.getcwd()\n",
    "sys.path.append(os.path.abspath(os.path.join(current_directory, '..')))"
   ]
  },
  {
   "cell_type": "code",
   "execution_count": 2,
   "id": "9d287771",
   "metadata": {},
   "outputs": [],
   "source": [
    "from deck_class.truco import Deck_of_Truco\n",
    "from dataclasses import dataclass\n",
    "import numpy as np"
   ]
  },
  {
   "cell_type": "code",
   "execution_count": 20,
   "id": "a6acc541",
   "metadata": {},
   "outputs": [],
   "source": [
    "@dataclass\n",
    "class Player:\n",
    "    hand: list\n",
    "    index: int\n",
    "    \n",
    "    \n",
    "@dataclass\n",
    "class Team:\n",
    "    players: list\n",
    "    index: int"
   ]
  },
  {
   "cell_type": "code",
   "execution_count": 71,
   "id": "c1f53b30",
   "metadata": {},
   "outputs": [],
   "source": [
    "class Truco_Game():\n",
    "    \n",
    "    def __init__(self, max_points=12):\n",
    "        self._deck = Deck_of_Truco()        \n",
    "        self._goal = max_points\n",
    "        self._teams = self.define_teams_hands()\n",
    "        \n",
    "        \n",
    "    def define_teams_hands(self):\n",
    "        player_11 = Player(self._deck.draw_hand(), 0)\n",
    "        player_12 = Player(self._deck.draw_hand(), 0)\n",
    "        player_21 = Player(self._deck.draw_hand(), 1)\n",
    "        player_22 = Player(self._deck.draw_hand(), 1)\n",
    "        \n",
    "        team_1 = Team([player_11, player_21], 0)\n",
    "        team_2 = Team([player_21, player_22], 1)\n",
    "        \n",
    "        return [team_1, team_2]\n",
    "    \n",
    "        \n",
    "    def start_state(self):\n",
    "        team = 0\n",
    "        player = 0\n",
    "        first_team_player = (team, player)\n",
    "        player_hand = self._teams[team].players[player].hand\n",
    "        \n",
    "        points_t1 = 0\n",
    "        points_t2 = 0\n",
    "        round_value = 1\n",
    "        raise_call = 0\n",
    "        \n",
    "        return (first_team_player, player_hand, points_t1, points_t2, round_value, raise_call)\n",
    "    \n",
    "    \n",
    "    def successor(self, state, action):\n",
    "        player, hand, points_t1, points_t2, round_value, raise_call = state\n",
    "        \n",
    "        if action in hand:\n",
    "            self._teams[player[0]].players[player[1]].hand = np.delete(hand, np.where(hand == action))\n",
    "            \n",
    "        elif action == 'run':\n",
    "            if player[0] == 1:\n",
    "                points_t2 += round_value\n",
    "            else:\n",
    "                points_t1 += round_value\n",
    "        \n",
    "        elif action == 'raise':\n",
    "            raise_call = 1\n",
    "            \n",
    "            if round_value == 1:\n",
    "                round_value = 3\n",
    "            else:\n",
    "                round_value += 3\n",
    "        \n",
    "        \n",
    "        next_player = self.get_next_player(player)\n",
    "        next_hand = self._teams[next_player[0]].players[next_player[1]].hand\n",
    "        \n",
    "        return (next_player, next_hand, points_t1, points_t2, round_value, raise_call)\n",
    "    \n",
    "    \n",
    "    def get_next_player(self, indexes):\n",
    "        player_index = indexes[1]\n",
    "        team_index = indexes[0]\n",
    "        \n",
    "        if team_index == 1:\n",
    "            new_player_index = (player_index + 1)%2\n",
    "        else:\n",
    "            new_player_index = player_index\n",
    "        \n",
    "        new_team_index = (team_index + 1)%2\n",
    "        \n",
    "        return (new_team_index, new_player_index)\n",
    "    \n",
    "    \n",
    "    def possible_actions(self, state):\n",
    "        player, hand, points_t1, points_t2, round_value, raise_call = state\n",
    "         \n",
    "        if raise_call:\n",
    "            possible_actions = ['go', 'run']\n",
    "        else:\n",
    "            possible_actions = list(self._teams[player[0]].players[player[1]].hand)\n",
    "            \n",
    "        if round_value <= 9 and max(points_t1, points_t2) < 11:\n",
    "            possible_actions.append('raise')\n",
    "            \n",
    "        return possible_actions\n",
    "        \n",
    "        \n",
    "      \n",
    "    def is_end(start, state):\n",
    "        points_t1, points_t2 = state[2], state[3]\n",
    "        return points_t1 >= 12 or points_t2 >= 12\n",
    "        \n",
    " \n",
    "        "
   ]
  },
  {
   "cell_type": "code",
   "execution_count": 72,
   "id": "d0548d9d",
   "metadata": {},
   "outputs": [],
   "source": [
    "game = Truco_Game()"
   ]
  },
  {
   "cell_type": "code",
   "execution_count": 73,
   "id": "347a64a6",
   "metadata": {},
   "outputs": [],
   "source": [
    "s1 = game.start_state()"
   ]
  },
  {
   "cell_type": "code",
   "execution_count": 74,
   "id": "9c5c8a41",
   "metadata": {},
   "outputs": [
    {
     "data": {
      "text/plain": [
       "['D2', 'C4', 'H7', 'raise']"
      ]
     },
     "execution_count": 74,
     "metadata": {},
     "output_type": "execute_result"
    }
   ],
   "source": [
    "game.possible_actions(s1)"
   ]
  },
  {
   "cell_type": "code",
   "execution_count": 75,
   "id": "83c6e451",
   "metadata": {},
   "outputs": [
    {
     "data": {
      "text/plain": [
       "((1, 0), array(['SA', 'S3', 'HA'], dtype='<U2'), 0, 0, 1, 0)"
      ]
     },
     "execution_count": 75,
     "metadata": {},
     "output_type": "execute_result"
    }
   ],
   "source": [
    "game.successor(s1, 'H7')"
   ]
  },
  {
   "cell_type": "code",
   "execution_count": 65,
   "id": "27e813c9",
   "metadata": {},
   "outputs": [
    {
     "data": {
      "text/plain": [
       "array(['SA', 'H2'], dtype='<U2')"
      ]
     },
     "execution_count": 65,
     "metadata": {},
     "output_type": "execute_result"
    }
   ],
   "source": [
    "game._teams[1].players[1].hand"
   ]
  },
  {
   "cell_type": "markdown",
   "id": "8db71b26",
   "metadata": {},
   "source": []
  },
  {
   "cell_type": "code",
   "execution_count": 64,
   "id": "2c1134c5",
   "metadata": {},
   "outputs": [
    {
     "data": {
      "text/plain": [
       "[Team(players=[Player(hand=array(['C3', 'HA', 'HQ'], dtype='<U2'), index=1), Player(hand=array(['SJ', 'SQ', 'DK'], dtype='<U2'), index=-1)], index=1),\n",
       " Team(players=[Player(hand=array(['SJ', 'SQ', 'DK'], dtype='<U2'), index=-1), Player(hand=array(['SA', 'H2'], dtype='<U2'), index=-1)], index=-1)]"
      ]
     },
     "execution_count": 64,
     "metadata": {},
     "output_type": "execute_result"
    }
   ],
   "source": [
    "game._teams"
   ]
  }
 ],
 "metadata": {
  "kernelspec": {
   "display_name": "Python 3 (ipykernel)",
   "language": "python",
   "name": "python3"
  },
  "language_info": {
   "codemirror_mode": {
    "name": "ipython",
    "version": 3
   },
   "file_extension": ".py",
   "mimetype": "text/x-python",
   "name": "python",
   "nbconvert_exporter": "python",
   "pygments_lexer": "ipython3",
   "version": "3.10.12"
  }
 },
 "nbformat": 4,
 "nbformat_minor": 5
}
