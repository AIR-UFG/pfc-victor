{
 "cells": [
  {
   "cell_type": "code",
   "execution_count": 1,
   "id": "bb822c25",
   "metadata": {},
   "outputs": [],
   "source": [
    "import os\n",
    "import sys\n",
    "\n",
    "# certify the notebook is able to find \"deck_class\" folder\n",
    "current_directory = os.getcwd()\n",
    "sys.path.append(os.path.abspath(os.path.join(current_directory, '..')))"
   ]
  },
  {
   "cell_type": "code",
   "execution_count": 2,
   "id": "9d287771",
   "metadata": {},
   "outputs": [],
   "source": [
    "from deck_class.truco import Deck_of_Truco\n",
    "from dataclasses import dataclass\n",
    "import numpy as np"
   ]
  },
  {
   "cell_type": "markdown",
   "id": "e827e97a",
   "metadata": {},
   "source": [
    "# Game modeling"
   ]
  },
  {
   "cell_type": "markdown",
   "id": "68214642",
   "metadata": {},
   "source": [
    "Similar to `struct` in C, Python has the native `dataclasses` module that implements the `@dataclass` decorator for automatically adding generated special methods such as `__init__()`.\n",
    "\n",
    "**Player** attributes:\n",
    "1. `hand` -> list with three cards\n",
    "2. `index` -> int value for reference (0 or 1)\n",
    "\n",
    "\n",
    "**Team** attributes:\n",
    "1. `players` -> list with two instances of **Player**\n",
    "2. `index` -> int value for reference (0 or 1)\n",
    "\n",
    "For ingame reference, each player will be indentified by the tuple `(Team.index, Player.index)`."
   ]
  },
  {
   "cell_type": "code",
   "execution_count": 20,
   "id": "a6acc541",
   "metadata": {},
   "outputs": [],
   "source": [
    "@dataclass\n",
    "class Player:\n",
    "    hand: list\n",
    "    index: int\n",
    "    \n",
    "    \n",
    "@dataclass\n",
    "class Team:\n",
    "    players: list\n",
    "    index: int"
   ]
  },
  {
   "cell_type": "markdown",
   "id": "42b50272",
   "metadata": {},
   "source": [
    "# Class `Truco_Game`\n",
    "\n",
    "This class will consist of handling the game state, certifying that the rules of the game are followed and providing methods that enable the agents to play the game.\n",
    "\n",
    "* Definition of state ($s$):\n",
    "1. $P_s$ = player that can take action at the current state $s$\n",
    "2. $C_P$ = player and teammate's cards \n",
    "3. $p_0$ = points earned by team 0\n",
    "4. $p_1$ = points earned by team 1\n",
    "5. $p_s$ = points at stake in the current round\n",
    "6. $T_C$ = current cards on the table\n",
    "7. $F_P$ = first player of current round (mão)\n",
    "8. $B$ = if the previous player raised the round value\n",
    "9. $W$ = array with the team index which won $i$-th round ($W = [w_0, w_1, w_2]$)\n",
    "10. $n_r$ = number of round current beeing played\n",
    "\n",
    "$$s = (P_s, C_P, p_0, p_1, p_s, T_C, F_P, B, W, n_r)$$\n",
    "\n",
    "Obs.: if the class was instantiated with 4 players $C_P$ will hide teammates cards. "
   ]
  },
  {
   "cell_type": "code",
   "execution_count": 71,
   "id": "c1f53b30",
   "metadata": {},
   "outputs": [],
   "source": [
    "class Truco_Game():\n",
    "    \n",
    "    def __init__(self, max_points=12):\n",
    "        self._deck = Deck_of_Truco()        \n",
    "        self._goal = max_points\n",
    "        self._teams = self.draw_teams_hands()\n",
    "        self._first_to_play = (0, 0)\n",
    "        self._last_to_play = (1, 1)\n",
    "        self._screamer = None\n",
    "        \n",
    "        \n",
    "    def draw_teams_hands(self):\n",
    "        player_11 = Player(self._deck.draw_hand(), 0)\n",
    "        player_12 = Player(self._deck.draw_hand(), 0)\n",
    "        player_21 = Player(self._deck.draw_hand(), 1)\n",
    "        player_22 = Player(self._deck.draw_hand(), 1)\n",
    "        \n",
    "        team_1 = Team([player_11, player_21], 0)\n",
    "        team_2 = Team([player_12, player_22], 1)\n",
    "        \n",
    "        return [team_1, team_2]\n",
    "    \n",
    "        \n",
    "    def start_state(self):\n",
    "        team_index = 0\n",
    "        player_index = 0\n",
    "        \n",
    "        first_player = (team_index, player_index)\n",
    "        player_hand = self.get_player_hand(first_player)\n",
    "        \n",
    "        points_t1, points_t2 = 0, 0\n",
    "        round_value = 1\n",
    "        raise_call = 0\n",
    "        \n",
    "        return (first_player, player_hand, points_t1, points_t2, round_value, raise_call)\n",
    "    \n",
    "    \n",
    "    \n",
    "    def get_player_hand(self, player):\n",
    "        team_index = player[0]\n",
    "        player_index = player[1]\n",
    "        \n",
    "        return self._teams[team_index].players[player_index].hand\n",
    "    \n",
    "    \n",
    "    def successor(self, state, action):\n",
    "        player, hand, points_t1, points_t2, round_value, raise_call = state\n",
    "        current_team, current_player = player\n",
    "        \n",
    "        \n",
    "        if action in hand:\n",
    "            card_played = action\n",
    "            \n",
    "            self.remove_card_from_hand(player, card_played)\n",
    "            next_player = self.forward_player(player)\n",
    "            \n",
    "        elif action == 'run':\n",
    "            if current_team == 0:\n",
    "                points_t2 += round_value\n",
    "            else:\n",
    "                points_t1 += round_value\n",
    "                \n",
    "            raise_call, round_value = 0, 1\n",
    "            \n",
    "            self.start_new_round()\n",
    "            next_player = self._first_to_play\n",
    "            \n",
    "        elif action == 'raise':\n",
    "            if raise_call:\n",
    "                if round_value == 1:\n",
    "                    round_value = 3\n",
    "                else:\n",
    "                    round_value += 3\n",
    "            else:\n",
    "                self._screamer = player\n",
    "             \n",
    "            next_player = self.decide_next_bettor(player, round_value)\n",
    "            raise_call = 1\n",
    "        \n",
    "        elif action == 'go':\n",
    "            raise_call = 0\n",
    "            \n",
    "            next_player = self._screamer\n",
    "            self._screamer = None\n",
    "            \n",
    "            if round_value == 1:\n",
    "                round_value = 3\n",
    "            else:\n",
    "                round_value += 3\n",
    "       \n",
    "    \n",
    "        next_hand = self.get_player_hand(next_player)\n",
    "        \n",
    "        return (next_player, next_hand, points_t1, points_t2, round_value, raise_call)\n",
    "    \n",
    "    \n",
    "    def start_new_round(self):\n",
    "        self._teams = self.draw_teams_hands()\n",
    "        self._first_to_play = self.forward_player(self._first_to_play)\n",
    "        self._last_to_play = self.forward_player(self._last_to_play)\n",
    "        return\n",
    "    \n",
    "    \n",
    "    def remove_card_from_hand(self, player, card):\n",
    "        hand = self._teams[player[0]].players[player[1]].hand\n",
    "        self._teams[player[0]].players[player[1]].hand = np.delete(hand, np.where(hand == card))\n",
    "        return\n",
    "    \n",
    "    \n",
    "    def decide_next_bettor(self, player, round_value):\n",
    "        if (round_value % 2 == 0) or round_value == 1:\n",
    "            new_player = self.forward_player(player)\n",
    "        else:\n",
    "            new_player = self.backward_player(player)\n",
    "            \n",
    "        return new_player\n",
    "             \n",
    "    \n",
    "    def forward_player(self, player):\n",
    "        team_index = player[0]\n",
    "        player_index = player[1]\n",
    "        \n",
    "        if team_index == 1:\n",
    "            new_player_index = (player_index + 1)%2\n",
    "        else:\n",
    "            new_player_index = player_index\n",
    "        \n",
    "        new_team_index = (team_index + 1)%2\n",
    "        \n",
    "        return (new_team_index, new_player_index)\n",
    "    \n",
    "    \n",
    "    def backward_player(self, player):\n",
    "        team_index = player[0]\n",
    "        player_index = player[1]\n",
    "        \n",
    "        if team_index == 1:\n",
    "            new_player_index = player_index\n",
    "        else:\n",
    "            new_player_index = (player_index + 1)%2\n",
    "            \n",
    "        new_team_index = (team_index + 1)%2\n",
    "        \n",
    "        return (new_team_index, new_player_index)\n",
    "    \n",
    "    \n",
    "    def possible_actions(self, state):\n",
    "        player, hand, points_t1, points_t2, round_value, raise_call = state\n",
    "         \n",
    "        if raise_call:\n",
    "            possible_actions = ['go', 'run']\n",
    "        else:\n",
    "            possible_actions = list(self.get_player_hand(player))\n",
    "            \n",
    "        if round_value <= 9 and max(points_t1, points_t2) < 11:\n",
    "            possible_actions.append('raise')\n",
    "        \n",
    "        return possible_actions\n",
    "        \n",
    "    \n",
    "    def player(self, state):\n",
    "        player, hand, points_t1, points_t2, round_value, raise_call = state\n",
    "        return player\n",
    "      \n",
    "    def is_end(start, state):\n",
    "        points_t1, points_t2 = state[2], state[3]\n",
    "        return points_t1 >= 12 or points_t2 >= 12"
   ]
  },
  {
   "cell_type": "code",
   "execution_count": 72,
   "id": "d0548d9d",
   "metadata": {},
   "outputs": [],
   "source": [
    "def humanPolicy(game, state):\n",
    "    while True:\n",
    "        actions = game.possible_actions(state)\n",
    "        action = input(f'P({state[0]})\\n-> actions: {actions}: ')\n",
    "        \n",
    "        if action in actions:\n",
    "            return action\n",
    "\n",
    "def run_game():\n",
    "    game = Truco_Game()\n",
    "    state = game.start_state()\n",
    "    \n",
    "    while not game.is_end(state):\n",
    "        print(\"Current state \", '='*10, state)\n",
    "        \n",
    "        player = game.player(state)\n",
    "        action = humanPolicy(game, state)\n",
    "        state = game.successor(state, action)"
   ]
  },
  {
   "cell_type": "code",
   "execution_count": 73,
   "id": "347a64a6",
   "metadata": {},
   "outputs": [],
   "source": [
    "run_game()"
   ]
  },
  {
   "cell_type": "code",
   "execution_count": 74,
   "id": "9c5c8a41",
   "metadata": {},
   "outputs": [
    {
     "data": {
      "text/plain": [
       "['D2', 'C4', 'H7', 'raise']"
      ]
     },
     "execution_count": 74,
     "metadata": {},
     "output_type": "execute_result"
    }
   ],
   "source": [
    "game.possible_actions(s1)"
   ]
  },
  {
   "cell_type": "code",
   "execution_count": 75,
   "id": "83c6e451",
   "metadata": {},
   "outputs": [
    {
     "data": {
      "text/plain": [
       "((1, 0), array(['SA', 'S3', 'HA'], dtype='<U2'), 0, 0, 1, 0)"
      ]
     },
     "execution_count": 75,
     "metadata": {},
     "output_type": "execute_result"
    }
   ],
   "source": [
    "game.successor(s1, 'H7')"
   ]
  },
  {
   "cell_type": "code",
   "execution_count": 65,
   "id": "27e813c9",
   "metadata": {},
   "outputs": [
    {
     "data": {
      "text/plain": [
       "array(['SA', 'H2'], dtype='<U2')"
      ]
     },
     "execution_count": 65,
     "metadata": {},
     "output_type": "execute_result"
    }
   ],
   "source": [
    "game._teams[1].players[1].hand"
   ]
  },
  {
   "cell_type": "markdown",
   "id": "8db71b26",
   "metadata": {},
   "source": []
  },
  {
   "cell_type": "code",
   "execution_count": 64,
   "id": "2c1134c5",
   "metadata": {},
   "outputs": [
    {
     "data": {
      "text/plain": [
       "[Team(players=[Player(hand=array(['C3', 'HA', 'HQ'], dtype='<U2'), index=1), Player(hand=array(['SJ', 'SQ', 'DK'], dtype='<U2'), index=-1)], index=1),\n",
       " Team(players=[Player(hand=array(['SJ', 'SQ', 'DK'], dtype='<U2'), index=-1), Player(hand=array(['SA', 'H2'], dtype='<U2'), index=-1)], index=-1)]"
      ]
     },
     "execution_count": 64,
     "metadata": {},
     "output_type": "execute_result"
    }
   ],
   "source": [
    "game._teams"
   ]
  }
 ],
 "metadata": {
  "kernelspec": {
   "display_name": "Python 3 (ipykernel)",
   "language": "python",
   "name": "python3"
  },
  "language_info": {
   "codemirror_mode": {
    "name": "ipython",
    "version": 3
   },
   "file_extension": ".py",
   "mimetype": "text/x-python",
   "name": "python",
   "nbconvert_exporter": "python",
   "pygments_lexer": "ipython3",
   "version": "3.10.12"
  }
 },
 "nbformat": 4,
 "nbformat_minor": 5
}
